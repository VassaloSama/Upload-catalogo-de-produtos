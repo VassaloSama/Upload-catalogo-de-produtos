{
 "cells": [
  {
   "cell_type": "code",
   "execution_count": null,
   "metadata": {},
   "outputs": [
    {
     "name": "stdout",
     "output_type": "stream",
     "text": [
      "|    | Referências   | SKU              |   Status do Produto | Nome do Produto                                              |   Categoria ID |   Grade ID |   Exibir produto na home |   Valor atacado | Peso do Produto   | Tamanho do Produto   |   Marca ID |   Fornecedor ID |   Código de Barras | Coleção                      |   Valor varejo | Área de Disponibilidade   | Descrição do Produto   |   Cor |\n",
      "|---:|:--------------|:-----------------|--------------------:|:-------------------------------------------------------------|---------------:|-----------:|-------------------------:|----------------:|:------------------|:---------------------|-----------:|----------------:|-------------------:|:-----------------------------|---------------:|:--------------------------|:-----------------------|------:|\n",
      "|  0 | CAM1VER26TOY  | CAM1VER26TOY-001 |                   1 | Camiseta oversized Kings Collab pixar Toy Story crew         |              3 |         21 |                        0 |             nan |                   |                      |          1 |               8 |          600230855 | KINGS COLLAB PIXAR TOY STORY |            nan | {P}                       |                        |     1 |\n",
      "|  6 | CAM1VER26TOY  | CAM1VER26TOY-006 |                   1 | Camiseta oversized Kings Collab pixar Toy Story crew         |              3 |         21 |                        0 |             nan |                   |                      |          1 |               8 |          600230861 | KINGS COLLAB PIXAR TOY STORY |            nan | {P}                       |                        |     2 |\n",
      "| 12 | CAM2VER26TOY  | CAM2VER26TOY-001 |                   1 | Camiseta oversized Kings Collab pixar Toy Story buzz         |              3 |         21 |                        0 |             nan |                   |                      |          1 |               8 |          600230867 | KINGS COLLAB PIXAR TOY STORY |            nan | {P}                       |                        |     1 |\n",
      "| 18 | CAM2VER26TOY  | CAM2VER26TOY-006 |                   1 | Camiseta oversized Kings Collab pixar Toy Story buzz         |              3 |         21 |                        0 |             nan |                   |                      |          1 |               8 |          600230873 | KINGS COLLAB PIXAR TOY STORY |            nan | {P}                       |                        |     2 |\n",
      "| 24 | CAM3VER26TOY  | CAM3VER26TOY-001 |                   1 | Camiseta oversized Kings Collab pixar Toy Story pizza planet |              3 |         21 |                        0 |             nan |                   |                      |          1 |               8 |          600230879 | KINGS COLLAB PIXAR TOY STORY |            nan | {P}                       |                        |     1 |\n",
      "| 30 | CAM4VER26TOY  | CAM4VER26TOY-001 |                   1 | Camiseta oversized Kings Collab pixar Toy Story              |              3 |         21 |                        0 |             nan |                   |                      |          1 |               8 |          600230885 | KINGS COLLAB PIXAR TOY STORY |            nan | {P}                       |                        |     1 |\n",
      "| 36 | CAM4VER26TOY  | CAM4VER26TOY-006 |                   1 | Camiseta oversized Kings Collab pixar Toy Story              |              3 |         21 |                        0 |             nan |                   |                      |          1 |               8 |          600230891 | KINGS COLLAB PIXAR TOY STORY |            nan | {P}                       |                        |     2 |\n",
      "| 42 | CAM5VER26TOY  | CAM5VER26TOY-006 |                   1 | Camiseta Kings X Toy Story Sketch                            |              3 |         21 |                        0 |             nan |                   |                      |          1 |               8 |          600230897 | KINGS COLLAB PIXAR TOY STORY |            nan | {P}                       |                        |     2 |\n",
      "| 48 | CAM6VER26TOY  | CAM6VER26TOY-006 |                   1 | Camiseta Raglan premium Kings X Pixar                        |              3 |         21 |                        0 |             nan |                   |                      |          1 |               8 |          600230903 | KINGS COLLAB PIXAR TOY STORY |            nan | {P}                       |                        |     7 |\n",
      "| 54 | SHO1VER26TOY  | SHO1VER26TOY-006 |                   1 | Shorts premium  Kings X Pixar                                |             14 |         21 |                        0 |             nan |                   |                      |          1 |               8 |          600230909 | KINGS COLLAB PIXAR TOY STORY |            nan | {P}                       |                        |     7 |\n",
      "| 60 | CAM6VER26TOY  | CAM6VER26TOY-016 |                   1 | Camiseta Raglan premium Kings X Pixar                        |              3 |         21 |                        0 |             nan |                   |                      |          1 |               8 |          600230915 | KINGS COLLAB PIXAR TOY STORY |            nan | {P}                       |                        |    15 |\n",
      "| 66 | SHO1VER26TOY  | SHO1VER26TOY-016 |                   1 | Shorts premium  Kings X Pixar                                |             14 |         21 |                        0 |             nan |                   |                      |          1 |               8 |          600230921 | KINGS COLLAB PIXAR TOY STORY |            nan | {P}                       |                        |    15 |\n",
      "| 72 | SHO2VER26TOY  | SHO2VER26TOY-006 |                   1 | Shorts Kings X Toy Story Andy                                |             14 |         21 |                        0 |             nan |                   |                      |          1 |               8 |          600230927 | KINGS COLLAB PIXAR TOY STORY |            nan | {P}                       |                        |     2 |\n",
      "| 78 | SHO2VER26TOY  | SHO2VER26TOY-001 |                   1 | Shorts Kings X Toy Story Andy                                |             14 |         21 |                        0 |             nan |                   |                      |          1 |               8 |          600230933 | KINGS COLLAB PIXAR TOY STORY |            nan | {P}                       |                        |     1 |\n",
      "| 84 | BLU1TOY26     | BLU1TOY26-001    |                   1 | Blusa oversized Kings collab pixar Toy Story                 |              5 |         21 |                        0 |             nan |                   |                      |          1 |               8 |          600230939 | KINGS COLLAB PIXAR TOY STORY |            nan | {P}                       |                        |     1 |\n",
      "| 90 | CAL1TOY26     | CAL1TOY26-001    |                   1 | Calça reta de moletom Kings collab pixar  Toy Story          |              2 |         21 |                        0 |             nan |                   |                      |          1 |               8 |          600230945 | KINGS COLLAB PIXAR TOY STORY |            nan | {P}                       |                        |     1 |\n"
     ]
    }
   ],
   "source": [
    "import pandas as pd\n",
    "\n",
    "teste_df = pd.read_excel(\"teste.xlsx\")\n",
    "cor_df = pd.read_excel(\"cor.xlsx\")\n",
    "categorias_df = pd.read_excel(\"categorias.xlsx\")\n",
    "marcas_df = pd.read_excel(\"marcas.xlsx\")\n",
    "fornecedores_df = pd.read_excel(\"fornecedores.xlsx\")\n",
    "\n",
    "teste_df = teste_df.rename(columns={'REF KINGS' : 'Referências', 'DESCRIÇÃO' : 'Nome do Produto', 'ATACADO' : 'Valor atacado', 'VAR' : 'Valor varejo', 'LINHA' : 'Coleção', 'COD. BARRAS': 'Código de Barras'})\n",
    "\n",
    "teste_df ['Status do Produto'] = 1\n",
    "teste_df ['SKU'] = teste_df ['Referências']\n",
    "teste_df ['Exibir produto na home'] = '0'\n",
    "teste_df ['Peso do Produto'] = ''\n",
    "teste_df ['Tamanho do Produto'] = ''\n",
    "teste_df ['Área de Disponibilidade'] = '{P}'\n",
    "teste_df ['Descrição do Produto'] = ''\n",
    "teste_df ['Grade ID'] = 21\n",
    "\n",
    "teste_df['Referências'] = teste_df['Referências'].str.slice(0, -4)\n",
    "\n",
    "teste_df = teste_df.merge(cor_df, on= 'COR').rename(columns={'ID' : 'Cor'})\n",
    "teste_df = teste_df.merge(fornecedores_df, on= 'FORNECEDOR').rename(columns={'ID' : 'Fornecedor ID'})\n",
    "teste_df = teste_df.merge(categorias_df, on= 'CATEGORIA').rename(columns={'ID' : 'Categoria ID'})\n",
    "teste_df = teste_df.merge(marcas_df, on= 'MARCA').rename(columns={'ID' : 'Marca ID'})\n",
    "\n",
    "teste_df['Marca ID'] = teste_df['Marca ID'].astype(int)\n",
    "teste_df['Fornecedor ID'] = teste_df['Fornecedor ID'].astype(int)\n",
    "\n",
    "\n",
    "teste_df = teste_df.drop_duplicates(subset=['SKU'])\n",
    "teste_df = teste_df [['Referências' , 'SKU', 'Status do Produto', 'Nome do Produto', 'Categoria ID', 'Grade ID', 'Exibir produto na home', 'Valor atacado', 'Peso do Produto', 'Tamanho do Produto', 'Marca ID', 'Fornecedor ID', 'Código de Barras', 'Coleção', 'Valor varejo', 'Área de Disponibilidade', 'Descrição do Produto', 'Cor']]\n",
    "\n",
    "teste_df.dtypes\n",
    "\n",
    "print(teste_df.to_markdown())\n",
    "\n",
    "teste_df.to_excel('upload.xlsx', index=False)\n"
   ]
  }
 ],
 "metadata": {
  "kernelspec": {
   "display_name": "Python 3",
   "language": "python",
   "name": "python3"
  },
  "language_info": {
   "codemirror_mode": {
    "name": "ipython",
    "version": 3
   },
   "file_extension": ".py",
   "mimetype": "text/x-python",
   "name": "python",
   "nbconvert_exporter": "python",
   "pygments_lexer": "ipython3",
   "version": "3.13.2"
  }
 },
 "nbformat": 4,
 "nbformat_minor": 2
}
