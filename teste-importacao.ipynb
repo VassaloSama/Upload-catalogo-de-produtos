{
 "cells": [
  {
   "cell_type": "code",
   "execution_count": null,
   "metadata": {},
   "outputs": [],
   "source": [
    "import pandas as pd\n",
    "\n",
    "teste_df = pd.read_excel(\"teste.xlsx\")\n",
    "cor_df = pd.read_excel(\"cor.xlsx\")\n",
    "categorias_df = pd.read_excel(\"categorias.xlsx\")\n",
    "marcas_df = pd.read_excel(\"marcas.xlsx\")\n",
    "fornecedores_df = pd.read_excel(\"fornecedores.xlsx\")\n",
    "\n",
    "teste_df = teste_df.rename(columns={'REF KINGS' : 'Referências', 'DESCRIÇÃO' : 'Nome do Produto', 'ATACADO' : 'Valor atacado', 'VAR' : 'Valor varejo'})\n",
    "teste_df [['Categoria', 'Descrição']] = teste_df['Nome do Produto'].str.split(' ', n=1, expand=True)\n",
    "teste_df['Referências'] = teste_df['Referências'].str.slice(0, -4)\n",
    "\n",
    "teste_df ['Status do Produto'] = '1'\n",
    "teste_df ['SKU'] = teste_df ['Referências']\n",
    "teste_df ['Exibir produto na home'] = '0'\n",
    "teste_df ['Peso do Produto'] = ''\n",
    "teste_df ['Tamanho do Produto'] = ''\n",
    "teste_df ['Área de Disponibilidade'] = '{P}'\n",
    "\n",
    "teste_df = teste_df.merge(cor_df, on= 'COR').rename(columns={'ID' : 'Cor'})\n",
    "teste_df = teste_df.merge(fornecedores_df, on= 'FORNECEDOR').rename(columns={'ID' : 'Fornecedor ID'})\n",
    "teste_df = teste_df.merge(categorias_df, on= 'Categoria').rename(columns={'ID' : 'Categoria ID'})\n",
    "\n",
    "# teste_df = teste_df [['referências' , 'SKU']]\n",
    "\n",
    "print(teste_df.to_markdown())\n"
   ]
  }
 ],
 "metadata": {
  "kernelspec": {
   "display_name": "Python 3",
   "language": "python",
   "name": "python3"
  },
  "language_info": {
   "codemirror_mode": {
    "name": "ipython",
    "version": 3
   },
   "file_extension": ".py",
   "mimetype": "text/x-python",
   "name": "python",
   "nbconvert_exporter": "python",
   "pygments_lexer": "ipython3",
   "version": "3.13.2"
  }
 },
 "nbformat": 4,
 "nbformat_minor": 2
}
